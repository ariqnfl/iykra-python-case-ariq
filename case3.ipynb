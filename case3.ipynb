{
 "metadata": {
  "language_info": {
   "codemirror_mode": {
    "name": "ipython",
    "version": 3
   },
   "file_extension": ".py",
   "mimetype": "text/x-python",
   "name": "python",
   "nbconvert_exporter": "python",
   "pygments_lexer": "ipython3",
   "version": "3.9.1"
  },
  "orig_nbformat": 4,
  "kernelspec": {
   "name": "python3",
   "display_name": "Python 3.9.1 64-bit"
  },
  "interpreter": {
   "hash": "5d0bad64bdd597fceaf821ae55cd4eafaddd6b8529648f3b641098014c6f2d9a"
  }
 },
 "nbformat": 4,
 "nbformat_minor": 2,
 "cells": [
  {
   "cell_type": "code",
   "execution_count": 1,
   "metadata": {},
   "outputs": [],
   "source": [
    "import pandas as pd\n",
    "import json"
   ]
  },
  {
   "cell_type": "code",
   "execution_count": 29,
   "metadata": {},
   "outputs": [],
   "source": [
    "with open('data.json') as f:\n",
    "    data = json.load(f)"
   ]
  },
  {
   "cell_type": "code",
   "execution_count": 44,
   "metadata": {},
   "outputs": [
    {
     "output_type": "execute_result",
     "data": {
      "text/plain": [
       "   id     tx_date  tx_amount tx_type user.id user.name        user.email\n",
       "0   1  2020-01-01         10     buy       1      agus  agus@example.com\n",
       "1   3  2020-02-01         10     buy       1      agus  agus@example.com\n",
       "2   5  2020-03-01         20    sell       1      agus  agus@example.com\n",
       "3   2  2020-01-01         10    sell       2      asep  asep@example.com\n",
       "4   4  2020-02-01         10    sell       2      asep  asep@example.com\n",
       "5   6  2020-03-01         20     buy       2      asep  asep@example.com"
      ],
      "text/html": "<div>\n<style scoped>\n    .dataframe tbody tr th:only-of-type {\n        vertical-align: middle;\n    }\n\n    .dataframe tbody tr th {\n        vertical-align: top;\n    }\n\n    .dataframe thead th {\n        text-align: right;\n    }\n</style>\n<table border=\"1\" class=\"dataframe\">\n  <thead>\n    <tr style=\"text-align: right;\">\n      <th></th>\n      <th>id</th>\n      <th>tx_date</th>\n      <th>tx_amount</th>\n      <th>tx_type</th>\n      <th>user.id</th>\n      <th>user.name</th>\n      <th>user.email</th>\n    </tr>\n  </thead>\n  <tbody>\n    <tr>\n      <th>0</th>\n      <td>1</td>\n      <td>2020-01-01</td>\n      <td>10</td>\n      <td>buy</td>\n      <td>1</td>\n      <td>agus</td>\n      <td>agus@example.com</td>\n    </tr>\n    <tr>\n      <th>1</th>\n      <td>3</td>\n      <td>2020-02-01</td>\n      <td>10</td>\n      <td>buy</td>\n      <td>1</td>\n      <td>agus</td>\n      <td>agus@example.com</td>\n    </tr>\n    <tr>\n      <th>2</th>\n      <td>5</td>\n      <td>2020-03-01</td>\n      <td>20</td>\n      <td>sell</td>\n      <td>1</td>\n      <td>agus</td>\n      <td>agus@example.com</td>\n    </tr>\n    <tr>\n      <th>3</th>\n      <td>2</td>\n      <td>2020-01-01</td>\n      <td>10</td>\n      <td>sell</td>\n      <td>2</td>\n      <td>asep</td>\n      <td>asep@example.com</td>\n    </tr>\n    <tr>\n      <th>4</th>\n      <td>4</td>\n      <td>2020-02-01</td>\n      <td>10</td>\n      <td>sell</td>\n      <td>2</td>\n      <td>asep</td>\n      <td>asep@example.com</td>\n    </tr>\n    <tr>\n      <th>5</th>\n      <td>6</td>\n      <td>2020-03-01</td>\n      <td>20</td>\n      <td>buy</td>\n      <td>2</td>\n      <td>asep</td>\n      <td>asep@example.com</td>\n    </tr>\n  </tbody>\n</table>\n</div>"
     },
     "metadata": {},
     "execution_count": 44
    }
   ],
   "source": [
    "df = pd.json_normalize(data,'txs',[['user','id'],['user','name'],['user','email']],errors='ignore')\n",
    "df.head(20)"
   ]
  },
  {
   "cell_type": "code",
   "execution_count": 56,
   "metadata": {},
   "outputs": [],
   "source": [
    "soal_1 = df[['user.id','id']].set_index('user.id').to_csv('1.csv')"
   ]
  },
  {
   "cell_type": "code",
   "execution_count": 52,
   "metadata": {},
   "outputs": [],
   "source": [
    "soal_2 = df[['user.id','user.name','user.email']].drop_duplicates().reset_index(drop=True).set_index('user.id')\n",
    "soal_2.to_csv('2.csv')"
   ]
  },
  {
   "cell_type": "code",
   "execution_count": 58,
   "metadata": {},
   "outputs": [],
   "source": [
    "soal_3 = df[['id','tx_date','tx_amount','tx_type']].sort_values('id').set_index('id').to_csv('3.csv')"
   ]
  }
 ]
}